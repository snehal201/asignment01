{
 "cells": [
  {
   "cell_type": "code",
   "execution_count": 1,
   "metadata": {},
   "outputs": [],
   "source": [
    "l =[25, 36, 58,31, 17, 61, 19, 39, 67, 81]"
   ]
  },
  {
   "cell_type": "code",
   "execution_count": 6,
   "metadata": {},
   "outputs": [
    {
     "name": "stdout",
     "output_type": "stream",
     "text": [
      " even :[ 36 ] \n",
      " even :[ 58 ] \n",
      "prime :[ 31 ]\n",
      "prime :[ 17 ]\n",
      "prime :[ 61 ]\n",
      "prime :[ 19 ]\n",
      "prime :[ 67 ]\n"
     ]
    }
   ],
   "source": [
    "for i in range(0,10):\n",
    "    for divisor in range(2,l[i]):\n",
    "        if l[i] % 2 == 0:\n",
    "\n",
    "            print(\" even :[ {} ] \".format(l[i]))\n",
    "            break\n",
    "    \n",
    "    for divisor in range(2,l[i]):\n",
    "        if l[i]%divisor ==0:\n",
    "            break\n",
    "        if  divisor == (l[i] - 1):\n",
    "\n",
    "            print(\"prime :[ {} ]\".format(l[i]))\n",
    "            break"
   ]
  },
  {
   "cell_type": "code",
   "execution_count": 7,
   "metadata": {},
   "outputs": [],
   "source": [
    " y =dict(zip())"
   ]
  },
  {
   "cell_type": "code",
   "execution_count": 8,
   "metadata": {},
   "outputs": [],
   "source": [
    "y[\"even\"] = [36,58]"
   ]
  },
  {
   "cell_type": "code",
   "execution_count": 9,
   "metadata": {},
   "outputs": [],
   "source": [
    "y[\"prime\"] = [31,17,61,19,67]"
   ]
  },
  {
   "cell_type": "code",
   "execution_count": 11,
   "metadata": {},
   "outputs": [
    {
     "name": "stdout",
     "output_type": "stream",
     "text": [
      "{'even': [36, 58], 'prime': [31, 17, 61, 19, 67]}\n"
     ]
    }
   ],
   "source": [
    "print(y)"
   ]
  },
  {
   "cell_type": "code",
   "execution_count": null,
   "metadata": {},
   "outputs": [],
   "source": []
  }
 ],
 "metadata": {
  "kernelspec": {
   "display_name": "Python 3",
   "language": "python",
   "name": "python3"
  },
  "language_info": {
   "codemirror_mode": {
    "name": "ipython",
    "version": 3
   },
   "file_extension": ".py",
   "mimetype": "text/x-python",
   "name": "python",
   "nbconvert_exporter": "python",
   "pygments_lexer": "ipython3",
   "version": "3.8.5"
  }
 },
 "nbformat": 4,
 "nbformat_minor": 4
}
